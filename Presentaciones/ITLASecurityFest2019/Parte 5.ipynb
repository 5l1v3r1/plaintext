{
 "cells": [
  {
   "cell_type": "markdown",
   "metadata": {},
   "source": [
    "# Parte 5 - Defeting ITLA CAPTCHA\n",
    "\n",
    "Probaremos con una imagen del CAPTCHA del ITLA \n",
    "\n",
    "![title](img/itla-captcha.png)\n",
    "\n",
    "https://www.itla.edu.do/foro/posting.php?mode=post&f=2&sid=864994e827c3062e96a3bd2178a3e345"
   ]
  },
  {
   "cell_type": "code",
   "execution_count": 1,
   "metadata": {},
   "outputs": [
    {
     "name": "stderr",
     "output_type": "stream",
     "text": [
      "Using TensorFlow backend.\n"
     ]
    }
   ],
   "source": [
    "from imutils import paths\n",
    "import numpy as np\n",
    "import imutils\n",
    "import cv2\n",
    "import pickle\n",
    "import requests\n",
    "import re\n",
    "from bs4 import BeautifulSoup\n",
    "import urllib\n",
    "from keras.models import load_model\n",
    "from helpers import resize_to_fit\n",
    "from imutils import paths\n",
    "\n",
    "import matplotlib.pyplot as plt\n",
    "%matplotlib inline\n",
    "\n",
    "\n",
    "MODEL_FILENAME = \"captcha_model.hdf5\"\n",
    "MODEL_LABELS_FILENAME = \"model_labels.dat\"\n",
    "CAPTCHA_IMAGE_FOLDER = \"generated_captcha_images\"\n",
    "\n",
    "# Load up the model labels (so we can translate model predictions to actual letters)\n",
    "with open(MODEL_LABELS_FILENAME, \"rb\") as f:\n",
    "    lb = pickle.load(f)\n",
    "\n",
    "# Load the trained neural netw ork\n",
    "model = load_model(MODEL_FILENAME)"
   ]
  },
  {
   "cell_type": "code",
   "execution_count": 47,
   "metadata": {
    "scrolled": true
   },
   "outputs": [
    {
     "name": "stdout",
     "output_type": "stream",
     "text": [
      "(20, 20)\n"
     ]
    },
    {
     "data": {
      "image/png": "[encoded data removed]",
      "text/plain": [
       "<Figure size 1080x288 with 2 Axes>"
      ]
     },
     "metadata": {
      "needs_background": "light"
     },
     "output_type": "display_data"
    }
   ],
   "source": [
    "# Probar con CAPTCHA ITLA\n",
    "model = load_model(MODEL_FILENAME)\n",
    "\n",
    "with open(MODEL_LABELS_FILENAME, \"rb\") as f:\n",
    "    lb = pickle.load(f)\n",
    "\n",
    "#image = cv2.imread('img/R-itla.png')\n",
    "image = cv2.imread('img/7-itla.png')\n",
    "image = cv2.resize(image, (20,20))\n",
    "image = cv2.cvtColor(image, cv2.COLOR_BGR2GRAY)\n",
    "#image = cv2.threshold(image, 0, 255, cv2.THRESH_BINARY_INV | cv2.THRESH_OTSU)[1]\n",
    "    \n",
    "print(image.shape)\n",
    "\n",
    "prediction = model.predict(image.reshape(1,20,20,1))\n",
    "\n",
    "letter = lb.inverse_transform(prediction)[0]\n",
    "\n",
    "plt.figure(figsize=(15,4));\n",
    "plt.subplot(1,2,1);\n",
    "plt.title('Example of digit: {}'.format(letter));\n",
    "plt.imshow(image,cmap='gray'); plt.axis('off');\n",
    "probs = model.predict_proba(image.reshape(1,20,20,1),batch_size=1)\n",
    "plt.subplot(1,2,2);\n",
    "plt.title('Probabilities for each digit class');\n",
    "plt.bar(np.arange(32),probs.reshape(32),align='center'); \n",
    "plt.xticks(np.arange(32),('2','3','4','5','6','7','8','9','A','B','C','D','E','F','G','H','J','K','L','M','N','P','Q','R','S','T','U','V','W','X','Y','Z'));"
   ]
  }
 ],
 "metadata": {
  "kernelspec": {
   "display_name": "Python 3",
   "language": "python",
   "name": "python3"
  },
  "language_info": {
   "codemirror_mode": {
    "name": "ipython",
    "version": 3
   },
   "file_extension": ".py",
   "mimetype": "text/x-python",
   "name": "python",
   "nbconvert_exporter": "python",
   "pygments_lexer": "ipython3",
   "version": "3.6.8"
  }
 },
 "nbformat": 4,
 "nbformat_minor": 2
}
